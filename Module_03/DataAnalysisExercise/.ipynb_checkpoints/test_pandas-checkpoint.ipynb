{
 "cells": [
  {
   "cell_type": "code",
   "execution_count": 1,
   "id": "6c9a1de5",
   "metadata": {},
   "outputs": [],
   "source": [
    "import pandas as pd"
   ]
  },
  {
   "cell_type": "code",
   "execution_count": 50,
   "id": "ddf26231",
   "metadata": {},
   "outputs": [
    {
     "name": "stdout",
     "output_type": "stream",
     "text": [
      "0    5\n",
      "1    7\n",
      "2    5\n",
      "3    1\n",
      "4    6\n",
      "Name: num_dropped, dtype: int64\n",
      "0    5\n",
      "2    5\n",
      "3    1\n",
      "4    6\n",
      "Name: num_dropped, dtype: int64\n",
      "0    10.0\n",
      "1     NaN\n",
      "2    10.0\n",
      "3     2.0\n",
      "4    12.0\n",
      "Name: num_dropped, dtype: float64\n"
     ]
    }
   ],
   "source": [
    "data = pd.Series([5,7,5,1,6],name='num_dropped')\n",
    "print(data)\n",
    "data1 = data.drop(1)\n",
    "print(data1)\n",
    "total = data + data1\n",
    "print(total)"
   ]
  },
  {
   "cell_type": "code",
   "execution_count": null,
   "id": "7cafd518",
   "metadata": {},
   "outputs": [],
   "source": [
    "datatest = pd.Series( [4,1,0,2,2,1],\n",
    "                    index=list['C++','Golang','Java','Golang','Java','C++'],\n",
    "                    name='num_drop')"
   ]
  },
  {
   "cell_type": "code",
   "execution_count": 44,
   "id": "84492065",
   "metadata": {},
   "outputs": [
    {
     "name": "stdout",
     "output_type": "stream",
     "text": [
      "0    5\n",
      "4    6\n",
      "Name: num_dropped, dtype: int64\n"
     ]
    }
   ],
   "source": [
    "a = data.drop([1,2,3])\n",
    "# print(data.index[3])\n",
    "print(a)"
   ]
  },
  {
   "cell_type": "code",
   "execution_count": 18,
   "id": "79764425",
   "metadata": {},
   "outputs": [
    {
     "data": {
      "text/plain": [
       "1    7\n",
       "2    5\n",
       "3    1\n",
       "Name: num_dropped, dtype: int64"
      ]
     },
     "execution_count": 18,
     "metadata": {},
     "output_type": "execute_result"
    }
   ],
   "source": [
    "data.loc[1:3]"
   ]
  },
  {
   "cell_type": "code",
   "execution_count": 14,
   "id": "c7f128cf",
   "metadata": {},
   "outputs": [
    {
     "name": "stdout",
     "output_type": "stream",
     "text": [
      "c    5\n",
      "d    1\n",
      "e    6\n",
      "Name: num_dropped, dtype: int64\n"
     ]
    }
   ],
   "source": [
    "print(data['c':'e'])"
   ]
  },
  {
   "cell_type": "code",
   "execution_count": 19,
   "id": "ddf7c820",
   "metadata": {},
   "outputs": [],
   "source": [
    "data = pd.Series([5,7,5,1,6],index= list('abcde'),name='num_dropped')"
   ]
  },
  {
   "cell_type": "code",
   "execution_count": 22,
   "id": "48c929dd",
   "metadata": {},
   "outputs": [
    {
     "name": "stdout",
     "output_type": "stream",
     "text": [
      "0     True\n",
      "1    False\n",
      "2     True\n",
      "3    False\n",
      "4     True\n",
      "Name: num_dropped, dtype: bool\n"
     ]
    }
   ],
   "source": [
    "print(data.between(3,6))"
   ]
  },
  {
   "cell_type": "code",
   "execution_count": 27,
   "id": "46c9d9ba",
   "metadata": {},
   "outputs": [
    {
     "name": "stdout",
     "output_type": "stream",
     "text": [
      "0    5\n",
      "2    5\n",
      "4    6\n",
      "Name: num_dropped, dtype: int64\n"
     ]
    }
   ],
   "source": [
    "print(data[data.between(3,6)])"
   ]
  },
  {
   "cell_type": "code",
   "execution_count": 35,
   "id": "2eabe804",
   "metadata": {},
   "outputs": [
    {
     "name": "stdout",
     "output_type": "stream",
     "text": [
      "    TV  Radio  Newspaper  Sales\n",
      "0   44     39         45     10\n",
      "1   17     45         69     12\n",
      "2  151     41         58     16\n",
      "3  180     10         58     17\n",
      "4    8     48         75      7\n",
      "5   57     32         23     11\n",
      "6  120     19         11     13\n",
      "7    8      2          1      4\n",
      "    TV  Radio  Newspaper  Sales\n",
      "7    8      2          1      4\n",
      "6  120     19         11     13\n",
      "5   57     32         23     11\n",
      "0   44     39         45     10\n",
      "2  151     41         58     16\n",
      "3  180     10         58     17\n",
      "1   17     45         69     12\n",
      "4    8     48         75      7\n",
      "    TV  Radio  Newspaper  Sales\n",
      "7    8      2          1      4\n",
      "6  120     19         11     13\n",
      "5   57     32         23     11\n",
      "0   44     39         45     10\n",
      "3  180     10         58     17\n",
      "2  151     41         58     16\n",
      "1   17     45         69     12\n",
      "4    8     48         75      7\n"
     ]
    }
   ],
   "source": [
    "df = pd.read_csv('advertising_simple.csv')\n",
    "print(df)\n",
    "print(df.sort_values('Newspaper'))\n",
    "print(df.sort_values(['Newspaper','Radio']))"
   ]
  },
  {
   "cell_type": "code",
   "execution_count": null,
   "id": "81be634a",
   "metadata": {},
   "outputs": [],
   "source": []
  }
 ],
 "metadata": {
  "kernelspec": {
   "display_name": "Python 3 (ipykernel)",
   "language": "python",
   "name": "python3"
  },
  "language_info": {
   "codemirror_mode": {
    "name": "ipython",
    "version": 3
   },
   "file_extension": ".py",
   "mimetype": "text/x-python",
   "name": "python",
   "nbconvert_exporter": "python",
   "pygments_lexer": "ipython3",
   "version": "3.10.9"
  }
 },
 "nbformat": 4,
 "nbformat_minor": 5
}
