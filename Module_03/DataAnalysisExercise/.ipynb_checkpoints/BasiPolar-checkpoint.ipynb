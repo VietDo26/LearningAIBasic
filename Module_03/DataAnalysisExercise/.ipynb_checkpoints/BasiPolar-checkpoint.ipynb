{
 "cells": [
  {
   "cell_type": "code",
   "execution_count": 2,
   "id": "8c176ba1",
   "metadata": {},
   "outputs": [
    {
     "name": "stdout",
     "output_type": "stream",
     "text": [
      "Collecting polars\n",
      "  Downloading polars-0.18.15-cp38-abi3-win_amd64.whl (20.3 MB)\n",
      "     ---------------------------------------- 20.3/20.3 MB 3.5 MB/s eta 0:00:00\n",
      "Installing collected packages: polars\n",
      "Successfully installed polars-0.18.15\n"
     ]
    }
   ],
   "source": [
    "!pip install polars"
   ]
  },
  {
   "cell_type": "code",
   "execution_count": 3,
   "id": "a4731ebc",
   "metadata": {},
   "outputs": [],
   "source": [
    "import numpy as np\n",
    "import polars as pl\n",
    "import matplotlib.pyplot as plt"
   ]
  },
  {
   "cell_type": "code",
   "execution_count": 4,
   "id": "d03f07db",
   "metadata": {},
   "outputs": [],
   "source": [
    "dataset_path = './dataset/Housing.csv'\n",
    "data = pl.read_csv(dataset_path)"
   ]
  },
  {
   "cell_type": "code",
   "execution_count": 6,
   "id": "140c8110",
   "metadata": {},
   "outputs": [
    {
     "data": {
      "text/html": [
       "<div><style>\n",
       ".dataframe > thead > tr > th,\n",
       ".dataframe > tbody > tr > td {\n",
       "  text-align: right;\n",
       "}\n",
       "</style>\n",
       "<small>shape: (9, 14)</small><table border=\"1\" class=\"dataframe\"><thead><tr><th>describe</th><th>price</th><th>area</th><th>bedrooms</th><th>bathrooms</th><th>stories</th><th>mainroad</th><th>guestroom</th><th>basement</th><th>hotwaterheating</th><th>airconditioning</th><th>parking</th><th>prefarea</th><th>furnishingstatus</th></tr><tr><td>str</td><td>f64</td><td>f64</td><td>f64</td><td>f64</td><td>f64</td><td>str</td><td>str</td><td>str</td><td>str</td><td>str</td><td>f64</td><td>str</td><td>str</td></tr></thead><tbody><tr><td>&quot;count&quot;</td><td>545.0</td><td>545.0</td><td>545.0</td><td>545.0</td><td>545.0</td><td>&quot;545&quot;</td><td>&quot;545&quot;</td><td>&quot;545&quot;</td><td>&quot;545&quot;</td><td>&quot;545&quot;</td><td>545.0</td><td>&quot;545&quot;</td><td>&quot;545&quot;</td></tr><tr><td>&quot;null_count&quot;</td><td>0.0</td><td>0.0</td><td>0.0</td><td>0.0</td><td>0.0</td><td>&quot;0&quot;</td><td>&quot;0&quot;</td><td>&quot;0&quot;</td><td>&quot;0&quot;</td><td>&quot;0&quot;</td><td>0.0</td><td>&quot;0&quot;</td><td>&quot;0&quot;</td></tr><tr><td>&quot;mean&quot;</td><td>4.7667e6</td><td>5150.541284</td><td>2.965138</td><td>1.286239</td><td>1.805505</td><td>null</td><td>null</td><td>null</td><td>null</td><td>null</td><td>0.693578</td><td>null</td><td>null</td></tr><tr><td>&quot;std&quot;</td><td>1.8704e6</td><td>2170.141023</td><td>0.738064</td><td>0.50247</td><td>0.867492</td><td>null</td><td>null</td><td>null</td><td>null</td><td>null</td><td>0.861586</td><td>null</td><td>null</td></tr><tr><td>&quot;min&quot;</td><td>1.75e6</td><td>1650.0</td><td>1.0</td><td>1.0</td><td>1.0</td><td>&quot;no&quot;</td><td>&quot;no&quot;</td><td>&quot;no&quot;</td><td>&quot;no&quot;</td><td>&quot;no&quot;</td><td>0.0</td><td>&quot;no&quot;</td><td>&quot;furnished&quot;</td></tr><tr><td>&quot;25%&quot;</td><td>3.43e6</td><td>3600.0</td><td>2.0</td><td>1.0</td><td>1.0</td><td>null</td><td>null</td><td>null</td><td>null</td><td>null</td><td>0.0</td><td>null</td><td>null</td></tr><tr><td>&quot;50%&quot;</td><td>4.34e6</td><td>4600.0</td><td>3.0</td><td>1.0</td><td>2.0</td><td>null</td><td>null</td><td>null</td><td>null</td><td>null</td><td>0.0</td><td>null</td><td>null</td></tr><tr><td>&quot;75%&quot;</td><td>5.74e6</td><td>6360.0</td><td>3.0</td><td>2.0</td><td>2.0</td><td>null</td><td>null</td><td>null</td><td>null</td><td>null</td><td>1.0</td><td>null</td><td>null</td></tr><tr><td>&quot;max&quot;</td><td>1.33e7</td><td>16200.0</td><td>6.0</td><td>4.0</td><td>4.0</td><td>&quot;yes&quot;</td><td>&quot;yes&quot;</td><td>&quot;yes&quot;</td><td>&quot;yes&quot;</td><td>&quot;yes&quot;</td><td>3.0</td><td>&quot;yes&quot;</td><td>&quot;unfurnished&quot;</td></tr></tbody></table></div>"
      ],
      "text/plain": [
       "shape: (9, 14)\n",
       "┌────────────┬──────────┬─────────────┬──────────┬───┬─────────────────┬──────────┬──────────┬──────────────────┐\n",
       "│ describe   ┆ price    ┆ area        ┆ bedrooms ┆ … ┆ airconditioning ┆ parking  ┆ prefarea ┆ furnishingstatus │\n",
       "│ ---        ┆ ---      ┆ ---         ┆ ---      ┆   ┆ ---             ┆ ---      ┆ ---      ┆ ---              │\n",
       "│ str        ┆ f64      ┆ f64         ┆ f64      ┆   ┆ str             ┆ f64      ┆ str      ┆ str              │\n",
       "╞════════════╪══════════╪═════════════╪══════════╪═══╪═════════════════╪══════════╪══════════╪══════════════════╡\n",
       "│ count      ┆ 545.0    ┆ 545.0       ┆ 545.0    ┆ … ┆ 545             ┆ 545.0    ┆ 545      ┆ 545              │\n",
       "│ null_count ┆ 0.0      ┆ 0.0         ┆ 0.0      ┆ … ┆ 0               ┆ 0.0      ┆ 0        ┆ 0                │\n",
       "│ mean       ┆ 4.7667e6 ┆ 5150.541284 ┆ 2.965138 ┆ … ┆ null            ┆ 0.693578 ┆ null     ┆ null             │\n",
       "│ std        ┆ 1.8704e6 ┆ 2170.141023 ┆ 0.738064 ┆ … ┆ null            ┆ 0.861586 ┆ null     ┆ null             │\n",
       "│ min        ┆ 1.75e6   ┆ 1650.0      ┆ 1.0      ┆ … ┆ no              ┆ 0.0      ┆ no       ┆ furnished        │\n",
       "│ 25%        ┆ 3.43e6   ┆ 3600.0      ┆ 2.0      ┆ … ┆ null            ┆ 0.0      ┆ null     ┆ null             │\n",
       "│ 50%        ┆ 4.34e6   ┆ 4600.0      ┆ 3.0      ┆ … ┆ null            ┆ 0.0      ┆ null     ┆ null             │\n",
       "│ 75%        ┆ 5.74e6   ┆ 6360.0      ┆ 3.0      ┆ … ┆ null            ┆ 1.0      ┆ null     ┆ null             │\n",
       "│ max        ┆ 1.33e7   ┆ 16200.0     ┆ 6.0      ┆ … ┆ yes             ┆ 3.0      ┆ yes      ┆ unfurnished      │\n",
       "└────────────┴──────────┴─────────────┴──────────┴───┴─────────────────┴──────────┴──────────┴──────────────────┘"
      ]
     },
     "execution_count": 6,
     "metadata": {},
     "output_type": "execute_result"
    }
   ],
   "source": [
    "data.describe()"
   ]
  },
  {
   "cell_type": "code",
   "execution_count": 7,
   "id": "f5e4ac9f",
   "metadata": {},
   "outputs": [],
   "source": [
    "price_col = data ['price']\n",
    "price_col = data [[ 'price']]\n",
    "price_col = data.select('price')"
   ]
  },
  {
   "cell_type": "code",
   "execution_count": 8,
   "id": "70f2faf7",
   "metadata": {},
   "outputs": [],
   "source": [
    "columns = data [['price','area','bedrooms','bathrooms']]\n",
    "columns = data.select(['price','area','bedrooms','bathrooms'])"
   ]
  },
  {
   "cell_type": "code",
   "execution_count": 9,
   "id": "27667f2f",
   "metadata": {},
   "outputs": [
    {
     "data": {
      "text/html": [
       "<div><style>\n",
       ".dataframe > thead > tr > th,\n",
       ".dataframe > tbody > tr > td {\n",
       "  text-align: right;\n",
       "}\n",
       "</style>\n",
       "<small>shape: (2, 3)</small><table border=\"1\" class=\"dataframe\"><thead><tr><th>price</th><th>area</th><th>bedrooms</th></tr><tr><td>i64</td><td>i64</td><td>i64</td></tr></thead><tbody><tr><td>8750000</td><td>4320</td><td>3</td></tr><tr><td>8680000</td><td>7155</td><td>3</td></tr></tbody></table></div>"
      ],
      "text/plain": [
       "shape: (2, 3)\n",
       "┌─────────┬──────┬──────────┐\n",
       "│ price   ┆ area ┆ bedrooms │\n",
       "│ ---     ┆ ---  ┆ ---      │\n",
       "│ i64     ┆ i64  ┆ i64      │\n",
       "╞═════════╪══════╪══════════╡\n",
       "│ 8750000 ┆ 4320 ┆ 3        │\n",
       "│ 8680000 ┆ 7155 ┆ 3        │\n",
       "└─────────┴──────┴──────────┘"
      ]
     },
     "execution_count": 9,
     "metadata": {},
     "output_type": "execute_result"
    }
   ],
   "source": [
    "data.slice(20,2).select(['price','area','bedrooms'])"
   ]
  },
  {
   "cell_type": "code",
   "execution_count": null,
   "id": "5b7b296c",
   "metadata": {},
   "outputs": [],
   "source": []
  }
 ],
 "metadata": {
  "kernelspec": {
   "display_name": "Python 3 (ipykernel)",
   "language": "python",
   "name": "python3"
  },
  "language_info": {
   "codemirror_mode": {
    "name": "ipython",
    "version": 3
   },
   "file_extension": ".py",
   "mimetype": "text/x-python",
   "name": "python",
   "nbconvert_exporter": "python",
   "pygments_lexer": "ipython3",
   "version": "3.10.9"
  }
 },
 "nbformat": 4,
 "nbformat_minor": 5
}
